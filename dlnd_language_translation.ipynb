{
 "cells": [
  {
   "cell_type": "markdown",
   "metadata": {
    "collapsed": true
   },
   "source": [
    "# Language Translation\n",
    "In this project, you’re going to take a peek into the realm of neural network machine translation.  You’ll be training a sequence to sequence model on a dataset of English and French sentences that can translate new sentences from English to French.\n",
    "## Get the Data\n",
    "Since translating the whole language of English to French will take lots of time to train, we have provided you with a small portion of the English corpus."
   ]
  },
  {
   "cell_type": "code",
   "execution_count": 1,
   "metadata": {
    "collapsed": true
   },
   "outputs": [],
   "source": [
    "\"\"\"\n",
    "DON'T MODIFY ANYTHING IN THIS CELL\n",
    "\"\"\"\n",
    "\n",
    "import helper\n",
    "import problem_unittests as tests\n",
    "\n",
    "source_path = 'data/small_vocab_en'\n",
    "target_path = 'data/small_vocab_fr'\n",
    "source_text = helper.load_data(source_path)\n",
    "target_text = helper.load_data(target_path)"
   ]
  },
  {
   "cell_type": "markdown",
   "metadata": {},
   "source": [
    "## Explore the Data\n",
    "Play around with view_sentence_range to view different parts of the data."
   ]
  },
  {
   "cell_type": "code",
   "execution_count": 2,
   "metadata": {},
   "outputs": [
    {
     "name": "stdout",
     "output_type": "stream",
     "text": [
      "Dataset Stats\n",
      "Roughly the number of unique words: 227\n",
      "Number of sentences: 137861\n",
      "Average number of words in a sentence: 13.225277634719028\n",
      "\n",
      "English sentences 0 to 10:\n",
      "new jersey is sometimes quiet during autumn , and it is snowy in april .\n",
      "the united states is usually chilly during july , and it is usually freezing in november .\n",
      "california is usually quiet during march , and it is usually hot in june .\n",
      "the united states is sometimes mild during june , and it is cold in september .\n",
      "your least liked fruit is the grape , but my least liked is the apple .\n",
      "his favorite fruit is the orange , but my favorite is the grape .\n",
      "paris is relaxing during december , but it is usually chilly in july .\n",
      "new jersey is busy during spring , and it is never hot in march .\n",
      "our least liked fruit is the lemon , but my least liked is the grape .\n",
      "the united states is sometimes busy during january , and it is sometimes warm in november .\n",
      "\n",
      "French sentences 0 to 10:\n",
      "new jersey est parfois calme pendant l' automne , et il est neigeux en avril .\n",
      "les états-unis est généralement froid en juillet , et il gèle habituellement en novembre .\n",
      "california est généralement calme en mars , et il est généralement chaud en juin .\n",
      "les états-unis est parfois légère en juin , et il fait froid en septembre .\n",
      "votre moins aimé fruit est le raisin , mais mon moins aimé est la pomme .\n",
      "son fruit préféré est l'orange , mais mon préféré est le raisin .\n",
      "paris est relaxant en décembre , mais il est généralement froid en juillet .\n",
      "new jersey est occupé au printemps , et il est jamais chaude en mars .\n",
      "notre fruit est moins aimé le citron , mais mon moins aimé est le raisin .\n",
      "les états-unis est parfois occupé en janvier , et il est parfois chaud en novembre .\n"
     ]
    }
   ],
   "source": [
    "view_sentence_range = (0, 10)\n",
    "\n",
    "\"\"\"\n",
    "DON'T MODIFY ANYTHING IN THIS CELL\n",
    "\"\"\"\n",
    "import numpy as np\n",
    "\n",
    "print('Dataset Stats')\n",
    "print('Roughly the number of unique words: {}'.format(len({word: None for word in source_text.split()})))\n",
    "\n",
    "sentences = source_text.split('\\n')\n",
    "word_counts = [len(sentence.split()) for sentence in sentences]\n",
    "print('Number of sentences: {}'.format(len(sentences)))\n",
    "print('Average number of words in a sentence: {}'.format(np.average(word_counts)))\n",
    "\n",
    "print()\n",
    "print('English sentences {} to {}:'.format(*view_sentence_range))\n",
    "print('\\n'.join(source_text.split('\\n')[view_sentence_range[0]:view_sentence_range[1]]))\n",
    "print()\n",
    "print('French sentences {} to {}:'.format(*view_sentence_range))\n",
    "print('\\n'.join(target_text.split('\\n')[view_sentence_range[0]:view_sentence_range[1]]))"
   ]
  },
  {
   "cell_type": "markdown",
   "metadata": {},
   "source": [
    "## Implement Preprocessing Function\n",
    "### Text to Word Ids\n",
    "As you did with other RNNs, you must turn the text into a number so the computer can understand it. In the function `text_to_ids()`, you'll turn `source_text` and `target_text` from words to ids.  However, you need to add the `<EOS>` word id at the end of `target_text`.  This will help the neural network predict when the sentence should end.\n",
    "\n",
    "You can get the `<EOS>` word id by doing:\n",
    "```python\n",
    "target_vocab_to_int['<EOS>']\n",
    "```\n",
    "You can get other word ids using `source_vocab_to_int` and `target_vocab_to_int`."
   ]
  },
  {
   "cell_type": "code",
   "execution_count": 3,
   "metadata": {},
   "outputs": [
    {
     "name": "stdout",
     "output_type": "stream",
     "text": [
      "Tests Passed\n"
     ]
    }
   ],
   "source": [
    "\n",
    "def sentence_to_ids(sentence, vocab_to_int, is_target=True):\n",
    "    words = sentence.split(' ')\n",
    "    words = list(filter(None, words))\n",
    "    tmp = [vocab_to_int[x] for x in words]\n",
    "    if(is_target):\n",
    "        tmp = tmp + [vocab_to_int['<EOS>']]\n",
    "    return tmp\n",
    "\n",
    "def text_to_ids(source_text, target_text, source_vocab_to_int, target_vocab_to_int):\n",
    "    \"\"\"\n",
    "    Convert source and target text to proper word ids\n",
    "    :param source_text: String that contains all the source text.\n",
    "    :param target_text: String that contains all the target text.\n",
    "    :param source_vocab_to_int: Dictionary to go from the source words to an id\n",
    "    :param target_vocab_to_int: Dictionary to go from the target words to an id\n",
    "    :return: A tuple of lists (source_id_text, target_id_text)\n",
    "    \"\"\"\n",
    "    # TODO: Implement Function\n",
    "    source_texts = source_text.split(\"\\n\")\n",
    "    target_texts = target_text.split(\"\\n\")\n",
    "    source_list = []\n",
    "    target_list = []\n",
    "    for s in source_texts:\n",
    "        source_list.append(sentence_to_ids(s,source_vocab_to_int, is_target=False))\n",
    "    for s in target_texts:\n",
    "        target_list.append(sentence_to_ids(s,target_vocab_to_int, is_target=True))    \n",
    "    \n",
    "    return source_list, target_list\n",
    " \n",
    "\n",
    "\"\"\"\n",
    "DON'T MODIFY ANYTHING IN THIS CELL THAT IS BELOW THIS LINE\n",
    "\"\"\"\n",
    "tests.test_text_to_ids(text_to_ids)"
   ]
  },
  {
   "cell_type": "markdown",
   "metadata": {},
   "source": [
    "### Preprocess all the data and save it\n",
    "Running the code cell below will preprocess all the data and save it to file."
   ]
  },
  {
   "cell_type": "code",
   "execution_count": 4,
   "metadata": {
    "collapsed": true
   },
   "outputs": [],
   "source": [
    "\"\"\"\n",
    "DON'T MODIFY ANYTHING IN THIS CELL\n",
    "\"\"\"\n",
    "helper.preprocess_and_save_data(source_path, target_path, text_to_ids)"
   ]
  },
  {
   "cell_type": "markdown",
   "metadata": {},
   "source": [
    "# Check Point\n",
    "This is your first checkpoint. If you ever decide to come back to this notebook or have to restart the notebook, you can start from here. The preprocessed data has been saved to disk."
   ]
  },
  {
   "cell_type": "code",
   "execution_count": 5,
   "metadata": {
    "collapsed": true
   },
   "outputs": [],
   "source": [
    "\"\"\"\n",
    "DON'T MODIFY ANYTHING IN THIS CELL\n",
    "\"\"\"\n",
    "import numpy as np\n",
    "import helper\n",
    "import problem_unittests as tests\n",
    "\n",
    "(source_int_text, target_int_text), (source_vocab_to_int, target_vocab_to_int), _ = helper.load_preprocess()"
   ]
  },
  {
   "cell_type": "markdown",
   "metadata": {},
   "source": [
    "### Check the Version of TensorFlow and Access to GPU\n",
    "This will check to make sure you have the correct version of TensorFlow and access to a GPU"
   ]
  },
  {
   "cell_type": "code",
   "execution_count": 6,
   "metadata": {},
   "outputs": [
    {
     "name": "stdout",
     "output_type": "stream",
     "text": [
      "TensorFlow Version: 1.1.0\n",
      "Default GPU Device: /gpu:0\n"
     ]
    }
   ],
   "source": [
    "\"\"\"\n",
    "DON'T MODIFY ANYTHING IN THIS CELL\n",
    "\"\"\"\n",
    "from distutils.version import LooseVersion\n",
    "import warnings\n",
    "import tensorflow as tf\n",
    "from tensorflow.python.layers.core import Dense\n",
    "\n",
    "# Check TensorFlow Version\n",
    "assert LooseVersion(tf.__version__) >= LooseVersion('1.1'), 'Please use TensorFlow version 1.1 or newer'\n",
    "print('TensorFlow Version: {}'.format(tf.__version__))\n",
    "\n",
    "# Check for a GPU\n",
    "if not tf.test.gpu_device_name():\n",
    "    warnings.warn('No GPU found. Please use a GPU to train your neural network.')\n",
    "else:\n",
    "    print('Default GPU Device: {}'.format(tf.test.gpu_device_name()))"
   ]
  },
  {
   "cell_type": "markdown",
   "metadata": {},
   "source": [
    "## Build the Neural Network\n",
    "You'll build the components necessary to build a Sequence-to-Sequence model by implementing the following functions below:\n",
    "- `model_inputs`\n",
    "- `process_decoder_input`\n",
    "- `encoding_layer`\n",
    "- `decoding_layer_train`\n",
    "- `decoding_layer_infer`\n",
    "- `decoding_layer`\n",
    "- `seq2seq_model`\n",
    "\n",
    "### Input\n",
    "Implement the `model_inputs()` function to create TF Placeholders for the Neural Network. It should create the following placeholders:\n",
    "\n",
    "- Input text placeholder named \"input\" using the TF Placeholder name parameter with rank 2.\n",
    "- Targets placeholder with rank 2.\n",
    "- Learning rate placeholder with rank 0.\n",
    "- Keep probability placeholder named \"keep_prob\" using the TF Placeholder name parameter with rank 0.\n",
    "- Target sequence length placeholder named \"target_sequence_length\" with rank 1\n",
    "- Max target sequence length tensor named \"max_target_len\" getting its value from applying tf.reduce_max on the target_sequence_length placeholder. Rank 0.\n",
    "- Source sequence length placeholder named \"source_sequence_length\" with rank 1\n",
    "\n",
    "Return the placeholders in the following the tuple (input, targets, learning rate, keep probability, target sequence length, max target sequence length, source sequence length)"
   ]
  },
  {
   "cell_type": "code",
   "execution_count": 7,
   "metadata": {},
   "outputs": [
    {
     "name": "stdout",
     "output_type": "stream",
     "text": [
      "Tests Passed\n"
     ]
    }
   ],
   "source": [
    "def model_inputs():\n",
    "    \"\"\"\n",
    "    Create TF Placeholders for input, targets, learning rate, and lengths of source and target sequences.\n",
    "    :return: Tuple (input, targets, learning rate, keep probability, target sequence length,\n",
    "    max target sequence length, source sequence length)\n",
    "    \"\"\"\n",
    "    # TODO: Implement Function\n",
    "    inputs = tf.placeholder(tf.int32, [None, None], 'input')\n",
    "    target = tf.placeholder(tf.int32, [None, None], 'target')\n",
    "    source_sequence = tf.placeholder(tf.int32, [None, None], 'source_sequence')\n",
    "    target_sequence = tf.placeholder(tf.int32, [None, None], 'target_sequence')\n",
    "    target_sequence_length = tf.placeholder(tf.int32, (None,), name='target_sequence_length')\n",
    "    max_target_sequence_length = tf.reduce_max(target_sequence_length, name='max_target_len')\n",
    "    source_sequence_length = tf.placeholder(tf.int32, (None,), name='source_sequence_length')\n",
    "    lr = tf.placeholder(tf.float32, None, 'lr')\n",
    "    keep_prob = tf.placeholder(tf.float32, None, 'keep_prob')\n",
    "    return inputs, target, lr, keep_prob,target_sequence_length,max_target_sequence_length,source_sequence_length\n",
    "\n",
    "\n",
    "\"\"\"\n",
    "DON'T MODIFY ANYTHING IN THIS CELL THAT IS BELOW THIS LINE\n",
    "\"\"\"\n",
    "tests.test_model_inputs(model_inputs)"
   ]
  },
  {
   "cell_type": "markdown",
   "metadata": {},
   "source": [
    "### Process Decoder Input\n",
    "Implement `process_decoder_input` by removing the last word id from each batch in `target_data` and concat the GO ID to the begining of each batch."
   ]
  },
  {
   "cell_type": "code",
   "execution_count": 8,
   "metadata": {},
   "outputs": [
    {
     "name": "stdout",
     "output_type": "stream",
     "text": [
      "Tests Passed\n"
     ]
    }
   ],
   "source": [
    "def process_decoder_input(target_data, target_vocab_to_int, batch_size):\n",
    "    \"\"\"\n",
    "    Preprocess target data for encoding\n",
    "    :param target_data: Target Placehoder\n",
    "    :param target_vocab_to_int: Dictionary to go from the target words to an id\n",
    "    :param batch_size: Batch Size\n",
    "    :return: Preprocessed target data\n",
    "    \"\"\"\n",
    "    # TODO: Implement Function\n",
    "    ending = tf.strided_slice(target_data, [0, 0], [batch_size, -1], [1, 1])\n",
    "    target_data = tf.concat([tf.fill([batch_size, 1], target_vocab_to_int['<GO>']), ending], 1)\n",
    "    return target_data\n",
    "\n",
    "\"\"\"\n",
    "DON'T MODIFY ANYTHING IN THIS CELL THAT IS BELOW THIS LINE\n",
    "\"\"\"\n",
    "tests.test_process_encoding_input(process_decoder_input)"
   ]
  },
  {
   "cell_type": "markdown",
   "metadata": {},
   "source": [
    "### Encoding\n",
    "Implement `encoding_layer()` to create a Encoder RNN layer:\n",
    " * Embed the encoder input using [`tf.contrib.layers.embed_sequence`](https://www.tensorflow.org/api_docs/python/tf/contrib/layers/embed_sequence)\n",
    " * Construct a [stacked](https://github.com/tensorflow/tensorflow/blob/6947f65a374ebf29e74bb71e36fd82760056d82c/tensorflow/docs_src/tutorials/recurrent.md#stacking-multiple-lstms) [`tf.contrib.rnn.LSTMCell`](https://www.tensorflow.org/api_docs/python/tf/contrib/rnn/LSTMCell) wrapped in a [`tf.contrib.rnn.DropoutWrapper`](https://www.tensorflow.org/api_docs/python/tf/contrib/rnn/DropoutWrapper)\n",
    " * Pass cell and embedded input to [`tf.nn.dynamic_rnn()`](https://www.tensorflow.org/api_docs/python/tf/nn/dynamic_rnn)"
   ]
  },
  {
   "cell_type": "code",
   "execution_count": 9,
   "metadata": {
    "scrolled": false
   },
   "outputs": [
    {
     "name": "stdout",
     "output_type": "stream",
     "text": [
      "Tests Passed\n"
     ]
    }
   ],
   "source": [
    "from imp import reload\n",
    "reload(tests)\n",
    "\n",
    "def encoding_layer(rnn_inputs, rnn_size, num_layers, keep_prob, \n",
    "                   source_sequence_length, source_vocab_size, \n",
    "                   encoding_embedding_size):\n",
    "    \"\"\"\n",
    "    Create encoding layer\n",
    "    :param rnn_inputs: Inputs for the RNN\n",
    "    :param rnn_size: RNN Size\n",
    "    :param num_layers: Number of layers\n",
    "    :param keep_prob: Dropout keep probability\n",
    "    :param source_sequence_length: a list of the lengths of each sequence in the batch\n",
    "    :param source_vocab_size: vocabulary size of source data\n",
    "    :param encoding_embedding_size: embedding size of source data\n",
    "    :return: tuple (RNN output, RNN state)\n",
    "    \"\"\"\n",
    "    # TODO: Implement Function\n",
    "    enc_embed_input = tf.contrib.layers.embed_sequence(rnn_inputs, source_vocab_size, encoding_embedding_size)\n",
    "\n",
    "    # RNN cell\n",
    "    def make_cell(rnn_size):\n",
    "        enc_cell = tf.contrib.rnn.LSTMCell(rnn_size,\n",
    "                                           initializer=tf.random_uniform_initializer(-0.1, 0.1, seed=2))\n",
    "        return enc_cell\n",
    "\n",
    "    enc_cell = tf.contrib.rnn.MultiRNNCell([make_cell(rnn_size) for _ in range(num_layers)])\n",
    "    \n",
    "    enc_output, enc_state = tf.nn.dynamic_rnn(enc_cell, enc_embed_input, sequence_length=source_sequence_length, dtype=tf.float32)\n",
    "    \n",
    "    return enc_output, enc_state\n",
    "\n",
    "\"\"\"\n",
    "DON'T MODIFY ANYTHING IN THIS CELL THAT IS BELOW THIS LINE\n",
    "\"\"\"\n",
    "tests.test_encoding_layer(encoding_layer)"
   ]
  },
  {
   "cell_type": "markdown",
   "metadata": {},
   "source": [
    "### Decoding - Training\n",
    "Create a training decoding layer:\n",
    "* Create a [`tf.contrib.seq2seq.TrainingHelper`](https://www.tensorflow.org/api_docs/python/tf/contrib/seq2seq/TrainingHelper) \n",
    "* Create a [`tf.contrib.seq2seq.BasicDecoder`](https://www.tensorflow.org/api_docs/python/tf/contrib/seq2seq/BasicDecoder)\n",
    "* Obtain the decoder outputs from [`tf.contrib.seq2seq.dynamic_decode`](https://www.tensorflow.org/api_docs/python/tf/contrib/seq2seq/dynamic_decode)"
   ]
  },
  {
   "cell_type": "code",
   "execution_count": 10,
   "metadata": {},
   "outputs": [
    {
     "name": "stdout",
     "output_type": "stream",
     "text": [
      "Tests Passed\n"
     ]
    }
   ],
   "source": [
    "\n",
    "def decoding_layer_train(encoder_state, dec_cell, dec_embed_input, \n",
    "                         target_sequence_length, max_summary_length, \n",
    "                         output_layer, keep_prob):\n",
    "    \"\"\"\n",
    "    Create a decoding layer for training\n",
    "    :param encoder_state: Encoder State\n",
    "    :param dec_cell: Decoder RNN Cell\n",
    "    :param dec_embed_input: Decoder embedded input\n",
    "    :param target_sequence_length: The lengths of each sequence in the target batch\n",
    "    :param max_summary_length: The length of the longest sequence in the batch\n",
    "    :param output_layer: Function to apply the output layer\n",
    "    :param keep_prob: Dropout keep probability\n",
    "    :return: BasicDecoderOutput containing training logits and sample_id\n",
    "    \"\"\"\n",
    "    # TODO: Implement Function\n",
    "    training_helper = tf.contrib.seq2seq.TrainingHelper(inputs=dec_embed_input, sequence_length=target_sequence_length, time_major=False)\n",
    "    \n",
    "    training_decoder = tf.contrib.seq2seq.BasicDecoder(dec_cell, training_helper, encoder_state, output_layer)\n",
    "    \n",
    "    BasicDecoderOutput, _ = tf.contrib.seq2seq.dynamic_decode(training_decoder, impute_finished=True, maximum_iterations=max_summary_length)\n",
    "    \n",
    "    return BasicDecoderOutput\n",
    "\n",
    "\n",
    "\"\"\"\n",
    "DON'T MODIFY ANYTHING IN THIS CELL THAT IS BELOW THIS LINE\n",
    "\"\"\"\n",
    "tests.test_decoding_layer_train(decoding_layer_train)"
   ]
  },
  {
   "cell_type": "markdown",
   "metadata": {},
   "source": [
    "### Decoding - Inference\n",
    "Create inference decoder:\n",
    "* Create a [`tf.contrib.seq2seq.GreedyEmbeddingHelper`](https://www.tensorflow.org/api_docs/python/tf/contrib/seq2seq/GreedyEmbeddingHelper)\n",
    "* Create a [`tf.contrib.seq2seq.BasicDecoder`](https://www.tensorflow.org/api_docs/python/tf/contrib/seq2seq/BasicDecoder)\n",
    "* Obtain the decoder outputs from [`tf.contrib.seq2seq.dynamic_decode`](https://www.tensorflow.org/api_docs/python/tf/contrib/seq2seq/dynamic_decode)"
   ]
  },
  {
   "cell_type": "code",
   "execution_count": 11,
   "metadata": {
    "scrolled": true
   },
   "outputs": [
    {
     "name": "stdout",
     "output_type": "stream",
     "text": [
      "Tests Passed\n"
     ]
    }
   ],
   "source": [
    "def decoding_layer_infer(encoder_state, dec_cell, dec_embeddings, start_of_sequence_id,\n",
    "                         end_of_sequence_id, max_target_sequence_length,\n",
    "                         vocab_size, output_layer, batch_size, keep_prob):\n",
    "    \"\"\"\n",
    "    Create a decoding layer for inference\n",
    "    :param encoder_state: Encoder state\n",
    "    :param dec_cell: Decoder RNN Cell\n",
    "    :param dec_embeddings: Decoder embeddings\n",
    "    :param start_of_sequence_id: GO ID\n",
    "    :param end_of_sequence_id: EOS Id\n",
    "    :param max_target_sequence_length: Maximum length of target sequences\n",
    "    :param vocab_size: Size of decoder/target vocabulary\n",
    "    :param decoding_scope: TenorFlow Variable Scope for decoding\n",
    "    :param output_layer: Function to apply the output layer\n",
    "    :param batch_size: Batch size\n",
    "    :param keep_prob: Dropout keep probability\n",
    "    :return: BasicDecoderOutput containing inference logits and sample_id\n",
    "    \"\"\"\n",
    "    # TODO: Implement Function\n",
    "    start_tokens = tf.tile(tf.constant([start_of_sequence_id], dtype=tf.int32), [batch_size], name='start_tokens')\n",
    "    \n",
    "    inference_helper = tf.contrib.seq2seq.GreedyEmbeddingHelper(dec_embeddings, start_tokens,end_of_sequence_id)\n",
    "\n",
    "    inference_decoder = tf.contrib.seq2seq.BasicDecoder(dec_cell,\n",
    "                                                       inference_helper,\n",
    "                                                       encoder_state,\n",
    "                                                       output_layer)\n",
    "\n",
    "    inference_decoder_output, _= tf.contrib.seq2seq.dynamic_decode(inference_decoder,\n",
    "                                                                   impute_finished=True,\n",
    "                                                                   maximum_iterations= max_target_sequence_length)\n",
    "\n",
    "    return inference_decoder_output\n",
    "\n",
    "\n",
    "\n",
    "\"\"\"\n",
    "DON'T MODIFY ANYTHING IN THIS CELL THAT IS BELOW THIS LINE\n",
    "\"\"\"\n",
    "tests.test_decoding_layer_infer(decoding_layer_infer)"
   ]
  },
  {
   "cell_type": "markdown",
   "metadata": {},
   "source": [
    "### Build the Decoding Layer\n",
    "Implement `decoding_layer()` to create a Decoder RNN layer.\n",
    "\n",
    "* Embed the target sequences\n",
    "* Construct the decoder LSTM cell (just like you constructed the encoder cell above)\n",
    "* Create an output layer to map the outputs of the decoder to the elements of our vocabulary\n",
    "* Use the your `decoding_layer_train(encoder_state, dec_cell, dec_embed_input, target_sequence_length, max_target_sequence_length, output_layer, keep_prob)` function to get the training logits.\n",
    "* Use your `decoding_layer_infer(encoder_state, dec_cell, dec_embeddings, start_of_sequence_id, end_of_sequence_id, max_target_sequence_length, vocab_size, output_layer, batch_size, keep_prob)` function to get the inference logits.\n",
    "\n",
    "Note: You'll need to use [tf.variable_scope](https://www.tensorflow.org/api_docs/python/tf/variable_scope) to share variables between training and inference."
   ]
  },
  {
   "cell_type": "code",
   "execution_count": 12,
   "metadata": {},
   "outputs": [
    {
     "name": "stdout",
     "output_type": "stream",
     "text": [
      "Tests Passed\n"
     ]
    }
   ],
   "source": [
    "def decoding_layer(dec_input, encoder_state,\n",
    "                   target_sequence_length, max_target_sequence_length,\n",
    "                   rnn_size,\n",
    "                   num_layers, target_vocab_to_int, target_vocab_size,\n",
    "                   batch_size, keep_prob, decoding_embedding_size):\n",
    "    \"\"\"\n",
    "    Create decoding layer\n",
    "    :param dec_input: Decoder input\n",
    "    :param encoder_state: Encoder state\n",
    "    :param target_sequence_length: The lengths of each sequence in the target batch\n",
    "    :param max_target_sequence_length: Maximum length of target sequences\n",
    "    :param rnn_size: RNN Size\n",
    "    :param num_layers: Number of layers\n",
    "    :param target_vocab_to_int: Dictionary to go from the target words to an id\n",
    "    :param target_vocab_size: Size of target vocabulary\n",
    "    :param batch_size: The size of the batch\n",
    "    :param keep_prob: Dropout keep probability\n",
    "    :param decoding_embedding_size: Decoding embedding size\n",
    "    :return: Tuple of (Training BasicDecoderOutput, Inference BasicDecoderOutput)\n",
    "    \"\"\"\n",
    "    # TODO: Implement Function\n",
    "    dec_embeddings = tf.Variable(tf.random_uniform([target_vocab_size, decoding_embedding_size]))\n",
    "    embedded = tf.nn.embedding_lookup(dec_embeddings, dec_input)\n",
    "\n",
    "    # Stack the decoder LSTM cells, with dropout\n",
    "    def lstm_cell():\n",
    "        return tf.contrib.rnn.DropoutWrapper(tf.contrib.rnn.LSTMCell(rnn_size, \n",
    "                                                                         initializer=tf.random_uniform_initializer(-0.1, 0.1)), \n",
    "                                                                         output_keep_prob=keep_prob)\n",
    "    dec_cell = tf.contrib.rnn.MultiRNNCell([lstm_cell() for _ in range(num_layers)])\n",
    "\n",
    "    # Define a linear dense layer to map outputs to words\n",
    "    output_layer = Dense(target_vocab_size, kernel_initializer=tf.truncated_normal_initializer(mean=0.0, stddev=0.1))\n",
    "\n",
    "    # Define the scope for training\n",
    "    with tf.variable_scope(\"decode\"):\n",
    "        # Get the training logits\n",
    "        train_logits = decoding_layer_train(encoder_state, dec_cell, embedded,\n",
    "                             target_sequence_length, max_target_sequence_length, output_layer, keep_prob)\n",
    "\n",
    "        # Define the scope for inference\n",
    "    with tf.variable_scope(\"decode\", reuse=True):\n",
    "        # Get the inference logits\n",
    "        inference_logits = decoding_layer_infer(encoder_state, dec_cell, dec_embeddings , target_vocab_to_int['<GO>'],\n",
    "                                                    target_vocab_to_int['<EOS>'], max_target_sequence_length, \n",
    "                                                    target_vocab_size, output_layer, batch_size, keep_prob)\n",
    "        \n",
    "    return train_logits, inference_logits\n",
    "\n",
    "\n",
    "\n",
    "\"\"\"\n",
    "DON'T MODIFY ANYTHING IN THIS CELL THAT IS BELOW THIS LINE\n",
    "\"\"\"\n",
    "tests.test_decoding_layer(decoding_layer)"
   ]
  },
  {
   "cell_type": "markdown",
   "metadata": {},
   "source": [
    "### Build the Neural Network\n",
    "Apply the functions you implemented above to:\n",
    "\n",
    "- Encode the input using your `encoding_layer(rnn_inputs, rnn_size, num_layers, keep_prob,  source_sequence_length, source_vocab_size, encoding_embedding_size)`.\n",
    "- Process target data using your `process_decoder_input(target_data, target_vocab_to_int, batch_size)` function.\n",
    "- Decode the encoded input using your `decoding_layer(dec_input, enc_state, target_sequence_length, max_target_sentence_length, rnn_size, num_layers, target_vocab_to_int, target_vocab_size, batch_size, keep_prob, dec_embedding_size)` function."
   ]
  },
  {
   "cell_type": "code",
   "execution_count": 13,
   "metadata": {},
   "outputs": [
    {
     "name": "stdout",
     "output_type": "stream",
     "text": [
      "Tests Passed\n"
     ]
    }
   ],
   "source": [
    "def seq2seq_model(input_data, target_data, keep_prob, batch_size,\n",
    "                  source_sequence_length, target_sequence_length,\n",
    "                  max_target_sentence_length,\n",
    "                  source_vocab_size, target_vocab_size,\n",
    "                  enc_embedding_size, dec_embedding_size,\n",
    "                  rnn_size, num_layers, target_vocab_to_int):\n",
    "    \"\"\"\n",
    "    Build the Sequence-to-Sequence part of the neural network\n",
    "    :param input_data: Input placeholder\n",
    "    :param target_data: Target placeholder\n",
    "    :param keep_prob: Dropout keep probability placeholder\n",
    "    :param batch_size: Batch Size\n",
    "    :param source_sequence_length: Sequence Lengths of source sequences in the batch\n",
    "    :param target_sequence_length: Sequence Lengths of target sequences in the batch\n",
    "    :param source_vocab_size: Source vocabulary size\n",
    "    :param target_vocab_size: Target vocabulary size\n",
    "    :param enc_embedding_size: Decoder embedding size\n",
    "    :param dec_embedding_size: Encoder embedding size\n",
    "    :param rnn_size: RNN Size\n",
    "    :param num_layers: Number of layers\n",
    "    :param target_vocab_to_int: Dictionary to go from the target words to an id\n",
    "    :return: Tuple of (Training BasicDecoderOutput, Inference BasicDecoderOutput)\n",
    "    \"\"\"\n",
    "    # TODO: Implement Function  \n",
    "    _, enc_state = encoding_layer(input_data, \n",
    "                                  rnn_size, \n",
    "                                  num_layers,\n",
    "                                  keep_prob,\n",
    "                                  source_sequence_length,\n",
    "                                  source_vocab_size, \n",
    "                                  enc_embedding_size)\n",
    "    \n",
    "    #def process_decoder_input(target_data, target_vocab_to_int, batch_size):\n",
    "    # Prepare the target sequences we'll feed to the decoder in training mode\n",
    "    dec_input = process_decoder_input(target_data, target_vocab_to_int, batch_size)\n",
    "    \n",
    "    # Pass encoder state and decoder inputs to the decoders\n",
    "    #def decoding_layer(dec_input, encoder_state,\n",
    "    #               target_sequence_length, max_target_sequence_length,\n",
    "    #               rnn_size,\n",
    "    #               num_layers, target_vocab_to_int, target_vocab_size,\n",
    "    #               batch_size, keep_prob, decoding_embedding_size):\n",
    "    training_decoder_output, inference_decoder_output = decoding_layer(dec_input,enc_state,target_sequence_length,\n",
    "                                                                        max_target_sentence_length,\n",
    "                                                                       rnn_size, num_layers,target_vocab_to_int,\n",
    "                                                                        target_vocab_size,\n",
    "                                                                        batch_size,keep_prob, dec_embedding_size)\n",
    "                                                                        \n",
    "    \n",
    "    return training_decoder_output, inference_decoder_output\n",
    "\n",
    "\n",
    "\"\"\"\n",
    "DON'T MODIFY ANYTHING IN THIS CELL THAT IS BELOW THIS LINE\n",
    "\"\"\"\n",
    "tests.test_seq2seq_model(seq2seq_model)"
   ]
  },
  {
   "cell_type": "markdown",
   "metadata": {},
   "source": [
    "## Neural Network Training\n",
    "### Hyperparameters\n",
    "Tune the following parameters:\n",
    "\n",
    "- Set `epochs` to the number of epochs.\n",
    "- Set `batch_size` to the batch size.\n",
    "- Set `rnn_size` to the size of the RNNs.\n",
    "- Set `num_layers` to the number of layers.\n",
    "- Set `encoding_embedding_size` to the size of the embedding for the encoder.\n",
    "- Set `decoding_embedding_size` to the size of the embedding for the decoder.\n",
    "- Set `learning_rate` to the learning rate.\n",
    "- Set `keep_probability` to the Dropout keep probability\n",
    "- Set `display_step` to state how many steps between each debug output statement"
   ]
  },
  {
   "cell_type": "code",
   "execution_count": 14,
   "metadata": {
    "collapsed": true
   },
   "outputs": [],
   "source": [
    "epochs = 4\n",
    "# Batch Size\n",
    "batch_size = 256\n",
    "# RNN Size\n",
    "rnn_size = 512\n",
    "\n",
    "# Number of Layers\n",
    "num_layers = 2\n",
    "# Embedding Size\n",
    "encoding_embedding_size = 256\n",
    "decoding_embedding_size = 256\n",
    "# Learning Rate\n",
    "learning_rate = 0.001\n",
    "# Dropout Keep Probability\n",
    "keep_probability = 0.5\n",
    "\n",
    "display_step = 10"
   ]
  },
  {
   "cell_type": "markdown",
   "metadata": {},
   "source": [
    "### Build the Graph\n",
    "Build the graph using the neural network you implemented."
   ]
  },
  {
   "cell_type": "code",
   "execution_count": 15,
   "metadata": {
    "collapsed": true
   },
   "outputs": [],
   "source": [
    "\"\"\"\n",
    "DON'T MODIFY ANYTHING IN THIS CELL\n",
    "\"\"\"\n",
    "save_path = 'checkpoints/dev'\n",
    "(source_int_text, target_int_text), (source_vocab_to_int, target_vocab_to_int), _ = helper.load_preprocess()\n",
    "max_target_sentence_length = max([len(sentence) for sentence in source_int_text])\n",
    "\n",
    "train_graph = tf.Graph()\n",
    "with train_graph.as_default():\n",
    "    input_data, targets, lr, keep_prob, target_sequence_length, max_target_sequence_length, source_sequence_length = model_inputs()\n",
    "\n",
    "    #sequence_length = tf.placeholder_with_default(max_target_sentence_length, None, name='sequence_length')\n",
    "    input_shape = tf.shape(input_data)\n",
    "\n",
    "    train_logits, inference_logits = seq2seq_model(tf.reverse(input_data, [-1]),\n",
    "                                                   targets,\n",
    "                                                   keep_prob,\n",
    "                                                   batch_size,\n",
    "                                                   source_sequence_length,\n",
    "                                                   target_sequence_length,\n",
    "                                                   max_target_sequence_length,\n",
    "                                                   len(source_vocab_to_int),\n",
    "                                                   len(target_vocab_to_int),\n",
    "                                                   encoding_embedding_size,\n",
    "                                                   decoding_embedding_size,\n",
    "                                                   rnn_size,\n",
    "                                                   num_layers,\n",
    "                                                   target_vocab_to_int)\n",
    "\n",
    "\n",
    "    training_logits = tf.identity(train_logits.rnn_output, name='logits')\n",
    "    inference_logits = tf.identity(inference_logits.sample_id, name='predictions')\n",
    "\n",
    "    masks = tf.sequence_mask(target_sequence_length, max_target_sequence_length, dtype=tf.float32, name='masks')\n",
    "\n",
    "    with tf.name_scope(\"optimization\"):\n",
    "        # Loss function\n",
    "        cost = tf.contrib.seq2seq.sequence_loss(\n",
    "            training_logits,\n",
    "            targets,\n",
    "            masks)\n",
    "\n",
    "        # Optimizer\n",
    "        optimizer = tf.train.AdamOptimizer(lr)\n",
    "\n",
    "        # Gradient Clipping\n",
    "        gradients = optimizer.compute_gradients(cost)\n",
    "        capped_gradients = [(tf.clip_by_value(grad, -1., 1.), var) for grad, var in gradients if grad is not None]\n",
    "        train_op = optimizer.apply_gradients(capped_gradients)\n"
   ]
  },
  {
   "cell_type": "markdown",
   "metadata": {},
   "source": [
    "Batch and pad the source and target sequences"
   ]
  },
  {
   "cell_type": "code",
   "execution_count": 16,
   "metadata": {
    "collapsed": true
   },
   "outputs": [],
   "source": [
    "\"\"\"\n",
    "DON'T MODIFY ANYTHING IN THIS CELL\n",
    "\"\"\"\n",
    "def pad_sentence_batch(sentence_batch, pad_int):\n",
    "    \"\"\"Pad sentences with <PAD> so that each sentence of a batch has the same length\"\"\"\n",
    "    max_sentence = max([len(sentence) for sentence in sentence_batch])\n",
    "    return [sentence + [pad_int] * (max_sentence - len(sentence)) for sentence in sentence_batch]\n",
    "\n",
    "\n",
    "def get_batches(sources, targets, batch_size, source_pad_int, target_pad_int):\n",
    "    \"\"\"Batch targets, sources, and the lengths of their sentences together\"\"\"\n",
    "    for batch_i in range(0, len(sources)//batch_size):\n",
    "        start_i = batch_i * batch_size\n",
    "\n",
    "        # Slice the right amount for the batch\n",
    "        sources_batch = sources[start_i:start_i + batch_size]\n",
    "        targets_batch = targets[start_i:start_i + batch_size]\n",
    "\n",
    "        # Pad\n",
    "        pad_sources_batch = np.array(pad_sentence_batch(sources_batch, source_pad_int))\n",
    "        pad_targets_batch = np.array(pad_sentence_batch(targets_batch, target_pad_int))\n",
    "\n",
    "        # Need the lengths for the _lengths parameters\n",
    "        pad_targets_lengths = []\n",
    "        for target in pad_targets_batch:\n",
    "            pad_targets_lengths.append(len(target))\n",
    "\n",
    "        pad_source_lengths = []\n",
    "        for source in pad_sources_batch:\n",
    "            pad_source_lengths.append(len(source))\n",
    "\n",
    "        yield pad_sources_batch, pad_targets_batch, pad_source_lengths, pad_targets_lengths\n"
   ]
  },
  {
   "cell_type": "markdown",
   "metadata": {},
   "source": [
    "### Train\n",
    "Train the neural network on the preprocessed data. If you have a hard time getting a good loss, check the forms to see if anyone is having the same problem."
   ]
  },
  {
   "cell_type": "code",
   "execution_count": 17,
   "metadata": {
    "scrolled": true
   },
   "outputs": [
    {
     "name": "stdout",
     "output_type": "stream",
     "text": [
      "Epoch   0 Batch   10/538 - Train Accuracy: 0.3510, Validation Accuracy: 0.4336, Loss: 3.3066\n",
      "Epoch   0 Batch   20/538 - Train Accuracy: 0.4414, Validation Accuracy: 0.4769, Loss: 2.6425\n",
      "Epoch   0 Batch   30/538 - Train Accuracy: 0.4391, Validation Accuracy: 0.5050, Loss: 2.3850\n",
      "Epoch   0 Batch   40/538 - Train Accuracy: 0.4794, Validation Accuracy: 0.4828, Loss: 1.8819\n",
      "Epoch   0 Batch   50/538 - Train Accuracy: 0.4270, Validation Accuracy: 0.4906, Loss: 1.8336\n",
      "Epoch   0 Batch   60/538 - Train Accuracy: 0.4041, Validation Accuracy: 0.4631, Loss: 1.6623\n",
      "Epoch   0 Batch   70/538 - Train Accuracy: 0.4753, Validation Accuracy: 0.5091, Loss: 1.4800\n",
      "Epoch   0 Batch   80/538 - Train Accuracy: 0.3996, Validation Accuracy: 0.4707, Loss: 1.4584\n",
      "Epoch   0 Batch   90/538 - Train Accuracy: 0.4457, Validation Accuracy: 0.4693, Loss: 1.2960\n",
      "Epoch   0 Batch  100/538 - Train Accuracy: 0.4896, Validation Accuracy: 0.5215, Loss: 1.1887\n",
      "Epoch   0 Batch  110/538 - Train Accuracy: 0.5004, Validation Accuracy: 0.5362, Loss: 1.1519\n",
      "Epoch   0 Batch  120/538 - Train Accuracy: 0.5188, Validation Accuracy: 0.5513, Loss: 1.0303\n",
      "Epoch   0 Batch  130/538 - Train Accuracy: 0.5683, Validation Accuracy: 0.5657, Loss: 0.9427\n",
      "Epoch   0 Batch  140/538 - Train Accuracy: 0.5471, Validation Accuracy: 0.5714, Loss: 0.9992\n",
      "Epoch   0 Batch  150/538 - Train Accuracy: 0.5848, Validation Accuracy: 0.5849, Loss: 0.8857\n",
      "Epoch   0 Batch  160/538 - Train Accuracy: 0.5893, Validation Accuracy: 0.5955, Loss: 0.8190\n",
      "Epoch   0 Batch  170/538 - Train Accuracy: 0.6114, Validation Accuracy: 0.5904, Loss: 0.7871\n",
      "Epoch   0 Batch  180/538 - Train Accuracy: 0.6291, Validation Accuracy: 0.5987, Loss: 0.7775\n",
      "Epoch   0 Batch  190/538 - Train Accuracy: 0.5971, Validation Accuracy: 0.6124, Loss: 0.7870\n",
      "Epoch   0 Batch  200/538 - Train Accuracy: 0.6092, Validation Accuracy: 0.6163, Loss: 0.7193\n",
      "Epoch   0 Batch  210/538 - Train Accuracy: 0.5938, Validation Accuracy: 0.6142, Loss: 0.7008\n",
      "Epoch   0 Batch  220/538 - Train Accuracy: 0.5917, Validation Accuracy: 0.6207, Loss: 0.6767\n",
      "Epoch   0 Batch  230/538 - Train Accuracy: 0.6146, Validation Accuracy: 0.6454, Loss: 0.6810\n",
      "Epoch   0 Batch  240/538 - Train Accuracy: 0.6143, Validation Accuracy: 0.6518, Loss: 0.6773\n",
      "Epoch   0 Batch  250/538 - Train Accuracy: 0.6283, Validation Accuracy: 0.6495, Loss: 0.6289\n",
      "Epoch   0 Batch  260/538 - Train Accuracy: 0.6200, Validation Accuracy: 0.6612, Loss: 0.6135\n",
      "Epoch   0 Batch  270/538 - Train Accuracy: 0.6248, Validation Accuracy: 0.6534, Loss: 0.6089\n",
      "Epoch   0 Batch  280/538 - Train Accuracy: 0.6871, Validation Accuracy: 0.6694, Loss: 0.5623\n",
      "Epoch   0 Batch  290/538 - Train Accuracy: 0.6641, Validation Accuracy: 0.6760, Loss: 0.5707\n",
      "Epoch   0 Batch  300/538 - Train Accuracy: 0.6747, Validation Accuracy: 0.6914, Loss: 0.5429\n",
      "Epoch   0 Batch  310/538 - Train Accuracy: 0.6898, Validation Accuracy: 0.6879, Loss: 0.5275\n",
      "Epoch   0 Batch  320/538 - Train Accuracy: 0.6860, Validation Accuracy: 0.6895, Loss: 0.5066\n",
      "Epoch   0 Batch  330/538 - Train Accuracy: 0.7059, Validation Accuracy: 0.6919, Loss: 0.4786\n",
      "Epoch   0 Batch  340/538 - Train Accuracy: 0.7080, Validation Accuracy: 0.6951, Loss: 0.4770\n",
      "Epoch   0 Batch  350/538 - Train Accuracy: 0.7260, Validation Accuracy: 0.7115, Loss: 0.4701\n",
      "Epoch   0 Batch  360/538 - Train Accuracy: 0.7014, Validation Accuracy: 0.7203, Loss: 0.4559\n",
      "Epoch   0 Batch  370/538 - Train Accuracy: 0.7270, Validation Accuracy: 0.7237, Loss: 0.4610\n",
      "Epoch   0 Batch  380/538 - Train Accuracy: 0.7436, Validation Accuracy: 0.7521, Loss: 0.4026\n",
      "Epoch   0 Batch  390/538 - Train Accuracy: 0.8000, Validation Accuracy: 0.7587, Loss: 0.3688\n",
      "Epoch   0 Batch  400/538 - Train Accuracy: 0.7831, Validation Accuracy: 0.7765, Loss: 0.3693\n",
      "Epoch   0 Batch  410/538 - Train Accuracy: 0.8053, Validation Accuracy: 0.7702, Loss: 0.3606\n",
      "Epoch   0 Batch  420/538 - Train Accuracy: 0.8254, Validation Accuracy: 0.7953, Loss: 0.3327\n",
      "Epoch   0 Batch  430/538 - Train Accuracy: 0.7861, Validation Accuracy: 0.8013, Loss: 0.3186\n",
      "Epoch   0 Batch  440/538 - Train Accuracy: 0.8129, Validation Accuracy: 0.8056, Loss: 0.3302\n",
      "Epoch   0 Batch  450/538 - Train Accuracy: 0.8253, Validation Accuracy: 0.8198, Loss: 0.3001\n",
      "Epoch   0 Batch  460/538 - Train Accuracy: 0.8134, Validation Accuracy: 0.8335, Loss: 0.2704\n",
      "Epoch   0 Batch  470/538 - Train Accuracy: 0.8406, Validation Accuracy: 0.8244, Loss: 0.2436\n",
      "Epoch   0 Batch  480/538 - Train Accuracy: 0.8597, Validation Accuracy: 0.8445, Loss: 0.2347\n",
      "Epoch   0 Batch  490/538 - Train Accuracy: 0.8713, Validation Accuracy: 0.8516, Loss: 0.2161\n",
      "Epoch   0 Batch  500/538 - Train Accuracy: 0.8903, Validation Accuracy: 0.8691, Loss: 0.1951\n",
      "Epoch   0 Batch  510/538 - Train Accuracy: 0.8661, Validation Accuracy: 0.8722, Loss: 0.1869\n",
      "Epoch   0 Batch  520/538 - Train Accuracy: 0.8883, Validation Accuracy: 0.8627, Loss: 0.1863\n",
      "Epoch   0 Batch  530/538 - Train Accuracy: 0.8668, Validation Accuracy: 0.8768, Loss: 0.2014\n",
      "Epoch   1 Batch   10/538 - Train Accuracy: 0.8883, Validation Accuracy: 0.8837, Loss: 0.1646\n",
      "Epoch   1 Batch   20/538 - Train Accuracy: 0.8927, Validation Accuracy: 0.8904, Loss: 0.1531\n",
      "Epoch   1 Batch   30/538 - Train Accuracy: 0.8848, Validation Accuracy: 0.8691, Loss: 0.1630\n",
      "Epoch   1 Batch   40/538 - Train Accuracy: 0.9157, Validation Accuracy: 0.9089, Loss: 0.1212\n",
      "Epoch   1 Batch   50/538 - Train Accuracy: 0.9041, Validation Accuracy: 0.8961, Loss: 0.1283\n",
      "Epoch   1 Batch   60/538 - Train Accuracy: 0.9203, Validation Accuracy: 0.9176, Loss: 0.1264\n",
      "Epoch   1 Batch   70/538 - Train Accuracy: 0.9098, Validation Accuracy: 0.8949, Loss: 0.1205\n",
      "Epoch   1 Batch   80/538 - Train Accuracy: 0.9135, Validation Accuracy: 0.9091, Loss: 0.1236\n",
      "Epoch   1 Batch   90/538 - Train Accuracy: 0.9113, Validation Accuracy: 0.9004, Loss: 0.1351\n",
      "Epoch   1 Batch  100/538 - Train Accuracy: 0.9082, Validation Accuracy: 0.9240, Loss: 0.1089\n",
      "Epoch   1 Batch  110/538 - Train Accuracy: 0.9156, Validation Accuracy: 0.9141, Loss: 0.1160\n",
      "Epoch   1 Batch  120/538 - Train Accuracy: 0.9344, Validation Accuracy: 0.9196, Loss: 0.0957\n",
      "Epoch   1 Batch  130/538 - Train Accuracy: 0.9176, Validation Accuracy: 0.9144, Loss: 0.0988\n",
      "Epoch   1 Batch  140/538 - Train Accuracy: 0.8926, Validation Accuracy: 0.9029, Loss: 0.1301\n",
      "Epoch   1 Batch  150/538 - Train Accuracy: 0.9248, Validation Accuracy: 0.9103, Loss: 0.0924\n",
      "Epoch   1 Batch  160/538 - Train Accuracy: 0.9072, Validation Accuracy: 0.9057, Loss: 0.0989\n",
      "Epoch   1 Batch  170/538 - Train Accuracy: 0.9191, Validation Accuracy: 0.9107, Loss: 0.0954\n",
      "Epoch   1 Batch  180/538 - Train Accuracy: 0.9258, Validation Accuracy: 0.9173, Loss: 0.0942\n",
      "Epoch   1 Batch  190/538 - Train Accuracy: 0.9118, Validation Accuracy: 0.9118, Loss: 0.1060\n",
      "Epoch   1 Batch  200/538 - Train Accuracy: 0.9350, Validation Accuracy: 0.9084, Loss: 0.0734\n",
      "Epoch   1 Batch  210/538 - Train Accuracy: 0.9048, Validation Accuracy: 0.9164, Loss: 0.0830\n",
      "Epoch   1 Batch  220/538 - Train Accuracy: 0.9196, Validation Accuracy: 0.9109, Loss: 0.0824\n",
      "Epoch   1 Batch  230/538 - Train Accuracy: 0.9264, Validation Accuracy: 0.9368, Loss: 0.0868\n",
      "Epoch   1 Batch  240/538 - Train Accuracy: 0.9463, Validation Accuracy: 0.9181, Loss: 0.0853\n",
      "Epoch   1 Batch  250/538 - Train Accuracy: 0.9352, Validation Accuracy: 0.9226, Loss: 0.0754\n",
      "Epoch   1 Batch  260/538 - Train Accuracy: 0.8947, Validation Accuracy: 0.9245, Loss: 0.0818\n",
      "Epoch   1 Batch  270/538 - Train Accuracy: 0.9355, Validation Accuracy: 0.9318, Loss: 0.0705\n",
      "Epoch   1 Batch  280/538 - Train Accuracy: 0.9390, Validation Accuracy: 0.9281, Loss: 0.0645\n",
      "Epoch   1 Batch  290/538 - Train Accuracy: 0.9516, Validation Accuracy: 0.9260, Loss: 0.0654\n",
      "Epoch   1 Batch  300/538 - Train Accuracy: 0.9230, Validation Accuracy: 0.9247, Loss: 0.0764\n",
      "Epoch   1 Batch  310/538 - Train Accuracy: 0.9529, Validation Accuracy: 0.9345, Loss: 0.0762\n",
      "Epoch   1 Batch  320/538 - Train Accuracy: 0.9408, Validation Accuracy: 0.9441, Loss: 0.0642\n",
      "Epoch   1 Batch  330/538 - Train Accuracy: 0.9522, Validation Accuracy: 0.9416, Loss: 0.0611\n",
      "Epoch   1 Batch  340/538 - Train Accuracy: 0.9223, Validation Accuracy: 0.9412, Loss: 0.0703\n",
      "Epoch   1 Batch  350/538 - Train Accuracy: 0.9185, Validation Accuracy: 0.9261, Loss: 0.0756\n",
      "Epoch   1 Batch  360/538 - Train Accuracy: 0.9373, Validation Accuracy: 0.9219, Loss: 0.0722\n"
     ]
    },
    {
     "name": "stdout",
     "output_type": "stream",
     "text": [
      "Epoch   1 Batch  370/538 - Train Accuracy: 0.9520, Validation Accuracy: 0.9421, Loss: 0.0682\n",
      "Epoch   1 Batch  380/538 - Train Accuracy: 0.9437, Validation Accuracy: 0.9373, Loss: 0.0608\n",
      "Epoch   1 Batch  390/538 - Train Accuracy: 0.9431, Validation Accuracy: 0.9217, Loss: 0.0516\n",
      "Epoch   1 Batch  400/538 - Train Accuracy: 0.9392, Validation Accuracy: 0.9347, Loss: 0.0642\n",
      "Epoch   1 Batch  410/538 - Train Accuracy: 0.9561, Validation Accuracy: 0.9474, Loss: 0.0635\n",
      "Epoch   1 Batch  420/538 - Train Accuracy: 0.9590, Validation Accuracy: 0.9418, Loss: 0.0542\n",
      "Epoch   1 Batch  430/538 - Train Accuracy: 0.9400, Validation Accuracy: 0.9386, Loss: 0.0617\n",
      "Epoch   1 Batch  440/538 - Train Accuracy: 0.9447, Validation Accuracy: 0.9418, Loss: 0.0697\n",
      "Epoch   1 Batch  450/538 - Train Accuracy: 0.9418, Validation Accuracy: 0.9462, Loss: 0.0758\n",
      "Epoch   1 Batch  460/538 - Train Accuracy: 0.9289, Validation Accuracy: 0.9505, Loss: 0.0650\n",
      "Epoch   1 Batch  470/538 - Train Accuracy: 0.9546, Validation Accuracy: 0.9368, Loss: 0.0582\n",
      "Epoch   1 Batch  480/538 - Train Accuracy: 0.9589, Validation Accuracy: 0.9448, Loss: 0.0475\n",
      "Epoch   1 Batch  490/538 - Train Accuracy: 0.9410, Validation Accuracy: 0.9407, Loss: 0.0521\n",
      "Epoch   1 Batch  500/538 - Train Accuracy: 0.9592, Validation Accuracy: 0.9537, Loss: 0.0379\n",
      "Epoch   1 Batch  510/538 - Train Accuracy: 0.9594, Validation Accuracy: 0.9505, Loss: 0.0503\n",
      "Epoch   1 Batch  520/538 - Train Accuracy: 0.9465, Validation Accuracy: 0.9590, Loss: 0.0522\n",
      "Epoch   1 Batch  530/538 - Train Accuracy: 0.9396, Validation Accuracy: 0.9496, Loss: 0.0523\n",
      "Epoch   2 Batch   10/538 - Train Accuracy: 0.9393, Validation Accuracy: 0.9498, Loss: 0.0526\n",
      "Epoch   2 Batch   20/538 - Train Accuracy: 0.9483, Validation Accuracy: 0.9439, Loss: 0.0536\n",
      "Epoch   2 Batch   30/538 - Train Accuracy: 0.9437, Validation Accuracy: 0.9375, Loss: 0.0618\n",
      "Epoch   2 Batch   40/538 - Train Accuracy: 0.9585, Validation Accuracy: 0.9558, Loss: 0.0432\n",
      "Epoch   2 Batch   50/538 - Train Accuracy: 0.9617, Validation Accuracy: 0.9366, Loss: 0.0425\n",
      "Epoch   2 Batch   60/538 - Train Accuracy: 0.9561, Validation Accuracy: 0.9492, Loss: 0.0472\n",
      "Epoch   2 Batch   70/538 - Train Accuracy: 0.9554, Validation Accuracy: 0.9482, Loss: 0.0412\n",
      "Epoch   2 Batch   80/538 - Train Accuracy: 0.9459, Validation Accuracy: 0.9542, Loss: 0.0503\n",
      "Epoch   2 Batch   90/538 - Train Accuracy: 0.9570, Validation Accuracy: 0.9616, Loss: 0.0551\n",
      "Epoch   2 Batch  100/538 - Train Accuracy: 0.9652, Validation Accuracy: 0.9611, Loss: 0.0424\n",
      "Epoch   2 Batch  110/538 - Train Accuracy: 0.9449, Validation Accuracy: 0.9620, Loss: 0.0461\n",
      "Epoch   2 Batch  120/538 - Train Accuracy: 0.9592, Validation Accuracy: 0.9643, Loss: 0.0338\n",
      "Epoch   2 Batch  130/538 - Train Accuracy: 0.9462, Validation Accuracy: 0.9586, Loss: 0.0440\n",
      "Epoch   2 Batch  140/538 - Train Accuracy: 0.9393, Validation Accuracy: 0.9499, Loss: 0.0623\n",
      "Epoch   2 Batch  150/538 - Train Accuracy: 0.9643, Validation Accuracy: 0.9553, Loss: 0.0362\n",
      "Epoch   2 Batch  160/538 - Train Accuracy: 0.9317, Validation Accuracy: 0.9345, Loss: 0.0399\n",
      "Epoch   2 Batch  170/538 - Train Accuracy: 0.9448, Validation Accuracy: 0.9583, Loss: 0.0468\n",
      "Epoch   2 Batch  180/538 - Train Accuracy: 0.9539, Validation Accuracy: 0.9442, Loss: 0.0428\n",
      "Epoch   2 Batch  190/538 - Train Accuracy: 0.9518, Validation Accuracy: 0.9627, Loss: 0.0580\n",
      "Epoch   2 Batch  200/538 - Train Accuracy: 0.9658, Validation Accuracy: 0.9565, Loss: 0.0339\n",
      "Epoch   2 Batch  210/538 - Train Accuracy: 0.9518, Validation Accuracy: 0.9622, Loss: 0.0434\n",
      "Epoch   2 Batch  220/538 - Train Accuracy: 0.9488, Validation Accuracy: 0.9561, Loss: 0.0437\n",
      "Epoch   2 Batch  230/538 - Train Accuracy: 0.9521, Validation Accuracy: 0.9599, Loss: 0.0399\n",
      "Epoch   2 Batch  240/538 - Train Accuracy: 0.9523, Validation Accuracy: 0.9634, Loss: 0.0449\n",
      "Epoch   2 Batch  250/538 - Train Accuracy: 0.9652, Validation Accuracy: 0.9569, Loss: 0.0362\n",
      "Epoch   2 Batch  260/538 - Train Accuracy: 0.9291, Validation Accuracy: 0.9579, Loss: 0.0438\n",
      "Epoch   2 Batch  270/538 - Train Accuracy: 0.9746, Validation Accuracy: 0.9553, Loss: 0.0341\n",
      "Epoch   2 Batch  280/538 - Train Accuracy: 0.9688, Validation Accuracy: 0.9572, Loss: 0.0329\n",
      "Epoch   2 Batch  290/538 - Train Accuracy: 0.9689, Validation Accuracy: 0.9688, Loss: 0.0347\n",
      "Epoch   2 Batch  300/538 - Train Accuracy: 0.9578, Validation Accuracy: 0.9592, Loss: 0.0423\n",
      "Epoch   2 Batch  310/538 - Train Accuracy: 0.9691, Validation Accuracy: 0.9560, Loss: 0.0479\n",
      "Epoch   2 Batch  320/538 - Train Accuracy: 0.9762, Validation Accuracy: 0.9611, Loss: 0.0377\n",
      "Epoch   2 Batch  330/538 - Train Accuracy: 0.9669, Validation Accuracy: 0.9684, Loss: 0.0325\n",
      "Epoch   2 Batch  340/538 - Train Accuracy: 0.9459, Validation Accuracy: 0.9629, Loss: 0.0384\n",
      "Epoch   2 Batch  350/538 - Train Accuracy: 0.9673, Validation Accuracy: 0.9570, Loss: 0.0444\n",
      "Epoch   2 Batch  360/538 - Train Accuracy: 0.9594, Validation Accuracy: 0.9672, Loss: 0.0345\n",
      "Epoch   2 Batch  370/538 - Train Accuracy: 0.9682, Validation Accuracy: 0.9656, Loss: 0.0347\n",
      "Epoch   2 Batch  380/538 - Train Accuracy: 0.9625, Validation Accuracy: 0.9679, Loss: 0.0296\n",
      "Epoch   2 Batch  390/538 - Train Accuracy: 0.9641, Validation Accuracy: 0.9457, Loss: 0.0295\n",
      "Epoch   2 Batch  400/538 - Train Accuracy: 0.9727, Validation Accuracy: 0.9531, Loss: 0.0359\n",
      "Epoch   2 Batch  410/538 - Train Accuracy: 0.9777, Validation Accuracy: 0.9634, Loss: 0.0327\n",
      "Epoch   2 Batch  420/538 - Train Accuracy: 0.9559, Validation Accuracy: 0.9483, Loss: 0.0332\n",
      "Epoch   2 Batch  430/538 - Train Accuracy: 0.9611, Validation Accuracy: 0.9521, Loss: 0.0301\n",
      "Epoch   2 Batch  440/538 - Train Accuracy: 0.9660, Validation Accuracy: 0.9611, Loss: 0.0332\n",
      "Epoch   2 Batch  450/538 - Train Accuracy: 0.9468, Validation Accuracy: 0.9661, Loss: 0.0460\n",
      "Epoch   2 Batch  460/538 - Train Accuracy: 0.9608, Validation Accuracy: 0.9615, Loss: 0.0429\n",
      "Epoch   2 Batch  470/538 - Train Accuracy: 0.9699, Validation Accuracy: 0.9606, Loss: 0.0320\n",
      "Epoch   2 Batch  480/538 - Train Accuracy: 0.9680, Validation Accuracy: 0.9608, Loss: 0.0307\n",
      "Epoch   2 Batch  490/538 - Train Accuracy: 0.9561, Validation Accuracy: 0.9652, Loss: 0.0398\n",
      "Epoch   2 Batch  500/538 - Train Accuracy: 0.9748, Validation Accuracy: 0.9718, Loss: 0.0256\n",
      "Epoch   2 Batch  510/538 - Train Accuracy: 0.9738, Validation Accuracy: 0.9627, Loss: 0.0321\n",
      "Epoch   2 Batch  520/538 - Train Accuracy: 0.9650, Validation Accuracy: 0.9597, Loss: 0.0337\n",
      "Epoch   2 Batch  530/538 - Train Accuracy: 0.9568, Validation Accuracy: 0.9620, Loss: 0.0352\n",
      "Epoch   3 Batch   10/538 - Train Accuracy: 0.9697, Validation Accuracy: 0.9657, Loss: 0.0321\n",
      "Epoch   3 Batch   20/538 - Train Accuracy: 0.9725, Validation Accuracy: 0.9631, Loss: 0.0338\n",
      "Epoch   3 Batch   30/538 - Train Accuracy: 0.9568, Validation Accuracy: 0.9611, Loss: 0.0339\n",
      "Epoch   3 Batch   40/538 - Train Accuracy: 0.9636, Validation Accuracy: 0.9560, Loss: 0.0223\n",
      "Epoch   3 Batch   50/538 - Train Accuracy: 0.9662, Validation Accuracy: 0.9599, Loss: 0.0215\n",
      "Epoch   3 Batch   60/538 - Train Accuracy: 0.9715, Validation Accuracy: 0.9638, Loss: 0.0336\n",
      "Epoch   3 Batch   70/538 - Train Accuracy: 0.9537, Validation Accuracy: 0.9666, Loss: 0.0265\n",
      "Epoch   3 Batch   80/538 - Train Accuracy: 0.9637, Validation Accuracy: 0.9680, Loss: 0.0260\n",
      "Epoch   3 Batch   90/538 - Train Accuracy: 0.9637, Validation Accuracy: 0.9670, Loss: 0.0326\n",
      "Epoch   3 Batch  100/538 - Train Accuracy: 0.9742, Validation Accuracy: 0.9656, Loss: 0.0261\n",
      "Epoch   3 Batch  110/538 - Train Accuracy: 0.9762, Validation Accuracy: 0.9592, Loss: 0.0282\n",
      "Epoch   3 Batch  120/538 - Train Accuracy: 0.9701, Validation Accuracy: 0.9677, Loss: 0.0222\n",
      "Epoch   3 Batch  130/538 - Train Accuracy: 0.9734, Validation Accuracy: 0.9732, Loss: 0.0321\n",
      "Epoch   3 Batch  140/538 - Train Accuracy: 0.9637, Validation Accuracy: 0.9496, Loss: 0.0369\n",
      "Epoch   3 Batch  150/538 - Train Accuracy: 0.9723, Validation Accuracy: 0.9650, Loss: 0.0260\n",
      "Epoch   3 Batch  160/538 - Train Accuracy: 0.9674, Validation Accuracy: 0.9480, Loss: 0.0263\n",
      "Epoch   3 Batch  170/538 - Train Accuracy: 0.9652, Validation Accuracy: 0.9696, Loss: 0.0307\n",
      "Epoch   3 Batch  180/538 - Train Accuracy: 0.9680, Validation Accuracy: 0.9670, Loss: 0.0338\n",
      "Epoch   3 Batch  190/538 - Train Accuracy: 0.9576, Validation Accuracy: 0.9661, Loss: 0.0395\n"
     ]
    },
    {
     "name": "stdout",
     "output_type": "stream",
     "text": [
      "Epoch   3 Batch  200/538 - Train Accuracy: 0.9801, Validation Accuracy: 0.9570, Loss: 0.0223\n",
      "Epoch   3 Batch  210/538 - Train Accuracy: 0.9680, Validation Accuracy: 0.9632, Loss: 0.0326\n",
      "Epoch   3 Batch  220/538 - Train Accuracy: 0.9600, Validation Accuracy: 0.9705, Loss: 0.0275\n",
      "Epoch   3 Batch  230/538 - Train Accuracy: 0.9779, Validation Accuracy: 0.9531, Loss: 0.0242\n",
      "Epoch   3 Batch  240/538 - Train Accuracy: 0.9676, Validation Accuracy: 0.9673, Loss: 0.0274\n",
      "Epoch   3 Batch  250/538 - Train Accuracy: 0.9674, Validation Accuracy: 0.9538, Loss: 0.0298\n",
      "Epoch   3 Batch  260/538 - Train Accuracy: 0.9561, Validation Accuracy: 0.9721, Loss: 0.0287\n",
      "Epoch   3 Batch  270/538 - Train Accuracy: 0.9746, Validation Accuracy: 0.9652, Loss: 0.0203\n",
      "Epoch   3 Batch  280/538 - Train Accuracy: 0.9723, Validation Accuracy: 0.9670, Loss: 0.0249\n",
      "Epoch   3 Batch  290/538 - Train Accuracy: 0.9801, Validation Accuracy: 0.9799, Loss: 0.0228\n",
      "Epoch   3 Batch  300/538 - Train Accuracy: 0.9751, Validation Accuracy: 0.9675, Loss: 0.0280\n",
      "Epoch   3 Batch  310/538 - Train Accuracy: 0.9697, Validation Accuracy: 0.9636, Loss: 0.0349\n",
      "Epoch   3 Batch  320/538 - Train Accuracy: 0.9740, Validation Accuracy: 0.9643, Loss: 0.0240\n",
      "Epoch   3 Batch  330/538 - Train Accuracy: 0.9754, Validation Accuracy: 0.9730, Loss: 0.0263\n",
      "Epoch   3 Batch  340/538 - Train Accuracy: 0.9695, Validation Accuracy: 0.9716, Loss: 0.0248\n",
      "Epoch   3 Batch  350/538 - Train Accuracy: 0.9756, Validation Accuracy: 0.9705, Loss: 0.0300\n",
      "Epoch   3 Batch  360/538 - Train Accuracy: 0.9746, Validation Accuracy: 0.9688, Loss: 0.0226\n",
      "Epoch   3 Batch  370/538 - Train Accuracy: 0.9697, Validation Accuracy: 0.9702, Loss: 0.0237\n",
      "Epoch   3 Batch  380/538 - Train Accuracy: 0.9848, Validation Accuracy: 0.9640, Loss: 0.0208\n",
      "Epoch   3 Batch  390/538 - Train Accuracy: 0.9766, Validation Accuracy: 0.9602, Loss: 0.0204\n",
      "Epoch   3 Batch  400/538 - Train Accuracy: 0.9736, Validation Accuracy: 0.9616, Loss: 0.0249\n",
      "Epoch   3 Batch  410/538 - Train Accuracy: 0.9799, Validation Accuracy: 0.9631, Loss: 0.0207\n",
      "Epoch   3 Batch  420/538 - Train Accuracy: 0.9703, Validation Accuracy: 0.9604, Loss: 0.0253\n",
      "Epoch   3 Batch  430/538 - Train Accuracy: 0.9645, Validation Accuracy: 0.9602, Loss: 0.0243\n",
      "Epoch   3 Batch  440/538 - Train Accuracy: 0.9762, Validation Accuracy: 0.9750, Loss: 0.0246\n",
      "Epoch   3 Batch  450/538 - Train Accuracy: 0.9663, Validation Accuracy: 0.9705, Loss: 0.0360\n",
      "Epoch   3 Batch  460/538 - Train Accuracy: 0.9600, Validation Accuracy: 0.9696, Loss: 0.0290\n",
      "Epoch   3 Batch  470/538 - Train Accuracy: 0.9680, Validation Accuracy: 0.9565, Loss: 0.0254\n",
      "Epoch   3 Batch  480/538 - Train Accuracy: 0.9823, Validation Accuracy: 0.9645, Loss: 0.0216\n",
      "Epoch   3 Batch  490/538 - Train Accuracy: 0.9626, Validation Accuracy: 0.9638, Loss: 0.0246\n",
      "Epoch   3 Batch  500/538 - Train Accuracy: 0.9874, Validation Accuracy: 0.9670, Loss: 0.0190\n",
      "Epoch   3 Batch  510/538 - Train Accuracy: 0.9847, Validation Accuracy: 0.9773, Loss: 0.0192\n",
      "Epoch   3 Batch  520/538 - Train Accuracy: 0.9816, Validation Accuracy: 0.9712, Loss: 0.0237\n",
      "Epoch   3 Batch  530/538 - Train Accuracy: 0.9666, Validation Accuracy: 0.9700, Loss: 0.0232\n",
      "Model Trained and Saved\n"
     ]
    }
   ],
   "source": [
    "\"\"\"\n",
    "DON'T MODIFY ANYTHING IN THIS CELL\n",
    "\"\"\"\n",
    "def get_accuracy(target, logits):\n",
    "    \"\"\"\n",
    "    Calculate accuracy\n",
    "    \"\"\"\n",
    "    max_seq = max(target.shape[1], logits.shape[1])\n",
    "    if max_seq - target.shape[1]:\n",
    "        target = np.pad(\n",
    "            target,\n",
    "            [(0,0),(0,max_seq - target.shape[1])],\n",
    "            'constant')\n",
    "    if max_seq - logits.shape[1]:\n",
    "        logits = np.pad(\n",
    "            logits,\n",
    "            [(0,0),(0,max_seq - logits.shape[1])],\n",
    "            'constant')\n",
    "\n",
    "    return np.mean(np.equal(target, logits))\n",
    "\n",
    "# Split data to training and validation sets\n",
    "train_source = source_int_text[batch_size:]\n",
    "train_target = target_int_text[batch_size:]\n",
    "valid_source = source_int_text[:batch_size]\n",
    "valid_target = target_int_text[:batch_size]\n",
    "(valid_sources_batch, valid_targets_batch, valid_sources_lengths, valid_targets_lengths ) = next(get_batches(valid_source,\n",
    "                                                                                                             valid_target,\n",
    "                                                                                                             batch_size,\n",
    "                                                                                                             source_vocab_to_int['<PAD>'],\n",
    "                                                                                                             target_vocab_to_int['<PAD>']))                                                                                                  \n",
    "with tf.Session(graph=train_graph) as sess:\n",
    "    sess.run(tf.global_variables_initializer())\n",
    "\n",
    "    for epoch_i in range(epochs):\n",
    "        for batch_i, (source_batch, target_batch, sources_lengths, targets_lengths) in enumerate(\n",
    "                get_batches(train_source, train_target, batch_size,\n",
    "                            source_vocab_to_int['<PAD>'],\n",
    "                            target_vocab_to_int['<PAD>'])):\n",
    "\n",
    "            _, loss = sess.run(\n",
    "                [train_op, cost],\n",
    "                {input_data: source_batch,\n",
    "                 targets: target_batch,\n",
    "                 lr: learning_rate,\n",
    "                 target_sequence_length: targets_lengths,\n",
    "                 source_sequence_length: sources_lengths,\n",
    "                 keep_prob: keep_probability})\n",
    "\n",
    "\n",
    "            if batch_i % display_step == 0 and batch_i > 0:\n",
    "\n",
    "\n",
    "                batch_train_logits = sess.run(\n",
    "                    inference_logits,\n",
    "                    {input_data: source_batch,\n",
    "                     source_sequence_length: sources_lengths,\n",
    "                     target_sequence_length: targets_lengths,\n",
    "                     keep_prob: 1.0})\n",
    "\n",
    "\n",
    "                batch_valid_logits = sess.run(\n",
    "                    inference_logits,\n",
    "                    {input_data: valid_sources_batch,\n",
    "                     source_sequence_length: valid_sources_lengths,\n",
    "                     target_sequence_length: valid_targets_lengths,\n",
    "                     keep_prob: 1.0})\n",
    "\n",
    "                train_acc = get_accuracy(target_batch, batch_train_logits)\n",
    "\n",
    "                valid_acc = get_accuracy(valid_targets_batch, batch_valid_logits)\n",
    "\n",
    "                print('Epoch {:>3} Batch {:>4}/{} - Train Accuracy: {:>6.4f}, Validation Accuracy: {:>6.4f}, Loss: {:>6.4f}'\n",
    "                      .format(epoch_i, batch_i, len(source_int_text) // batch_size, train_acc, valid_acc, loss))\n",
    "\n",
    "    # Save Model\n",
    "    saver = tf.train.Saver()\n",
    "    saver.save(sess, save_path)\n",
    "    print('Model Trained and Saved')"
   ]
  },
  {
   "cell_type": "markdown",
   "metadata": {},
   "source": [
    "### Save Parameters\n",
    "Save the `batch_size` and `save_path` parameters for inference."
   ]
  },
  {
   "cell_type": "code",
   "execution_count": 18,
   "metadata": {
    "collapsed": true
   },
   "outputs": [],
   "source": [
    "\"\"\"\n",
    "DON'T MODIFY ANYTHING IN THIS CELL\n",
    "\"\"\"\n",
    "# Save parameters for checkpoint\n",
    "helper.save_params(save_path)"
   ]
  },
  {
   "cell_type": "markdown",
   "metadata": {},
   "source": [
    "# Checkpoint"
   ]
  },
  {
   "cell_type": "code",
   "execution_count": 19,
   "metadata": {
    "collapsed": true
   },
   "outputs": [],
   "source": [
    "\"\"\"\n",
    "DON'T MODIFY ANYTHING IN THIS CELL\n",
    "\"\"\"\n",
    "import tensorflow as tf\n",
    "import numpy as np\n",
    "import helper\n",
    "import problem_unittests as tests\n",
    "\n",
    "_, (source_vocab_to_int, target_vocab_to_int), (source_int_to_vocab, target_int_to_vocab) = helper.load_preprocess()\n",
    "load_path = helper.load_params()"
   ]
  },
  {
   "cell_type": "markdown",
   "metadata": {},
   "source": [
    "## Sentence to Sequence\n",
    "To feed a sentence into the model for translation, you first need to preprocess it.  Implement the function `sentence_to_seq()` to preprocess new sentences.\n",
    "\n",
    "- Convert the sentence to lowercase\n",
    "- Convert words into ids using `vocab_to_int`\n",
    " - Convert words not in the vocabulary, to the `<UNK>` word id."
   ]
  },
  {
   "cell_type": "code",
   "execution_count": 20,
   "metadata": {},
   "outputs": [
    {
     "name": "stdout",
     "output_type": "stream",
     "text": [
      "Tests Passed\n"
     ]
    }
   ],
   "source": [
    "def sentence_to_seq(sentence, vocab_to_int):\n",
    "    \"\"\"\n",
    "    Convert a sentence to a sequence of ids\n",
    "    :param sentence: String\n",
    "    :param vocab_to_int: Dictionary to go from the words to an id\n",
    "    :return: List of word ids\n",
    "    \"\"\"\n",
    "    # TODO: Implement Function\n",
    "    sentence = sentence.lower()\n",
    "    words = sentence.split(' ')\n",
    "    ids = []\n",
    "    for w in words:\n",
    "        if(w in vocab_to_int):\n",
    "            ids.append(vocab_to_int[w])\n",
    "        else:\n",
    "            ids.append(vocab_to_int['<UNK>'])\n",
    "    return ids\n",
    "\n",
    "\n",
    "\"\"\"\n",
    "DON'T MODIFY ANYTHING IN THIS CELL THAT IS BELOW THIS LINE\n",
    "\"\"\"\n",
    "tests.test_sentence_to_seq(sentence_to_seq)"
   ]
  },
  {
   "cell_type": "markdown",
   "metadata": {},
   "source": [
    "## Translate\n",
    "This will translate `translate_sentence` from English to French."
   ]
  },
  {
   "cell_type": "code",
   "execution_count": 21,
   "metadata": {},
   "outputs": [
    {
     "name": "stdout",
     "output_type": "stream",
     "text": [
      "INFO:tensorflow:Restoring parameters from checkpoints/dev\n",
      "Input\n",
      "  Word Ids:      [158, 165, 153, 170, 205, 213, 228]\n",
      "  English Words: ['he', 'saw', 'a', 'old', 'yellow', 'truck', '.']\n",
      "\n",
      "Prediction\n",
      "  Word Ids:      [30, 149, 313, 230, 335, 302, 156, 84, 1]\n",
      "  French Words: il a vu un vieux camion jaune . <EOS>\n"
     ]
    }
   ],
   "source": [
    "translate_sentence = 'he saw a old yellow truck .'\n",
    "\n",
    "\n",
    "\"\"\"\n",
    "DON'T MODIFY ANYTHING IN THIS CELL\n",
    "\"\"\"\n",
    "translate_sentence = sentence_to_seq(translate_sentence, source_vocab_to_int)\n",
    "\n",
    "loaded_graph = tf.Graph()\n",
    "with tf.Session(graph=loaded_graph) as sess:\n",
    "    # Load saved model\n",
    "    loader = tf.train.import_meta_graph(load_path + '.meta')\n",
    "    loader.restore(sess, load_path)\n",
    "\n",
    "    input_data = loaded_graph.get_tensor_by_name('input:0')\n",
    "    logits = loaded_graph.get_tensor_by_name('predictions:0')\n",
    "    target_sequence_length = loaded_graph.get_tensor_by_name('target_sequence_length:0')\n",
    "    source_sequence_length = loaded_graph.get_tensor_by_name('source_sequence_length:0')\n",
    "    keep_prob = loaded_graph.get_tensor_by_name('keep_prob:0')\n",
    "\n",
    "    translate_logits = sess.run(logits, {input_data: [translate_sentence]*batch_size,\n",
    "                                         target_sequence_length: [len(translate_sentence)*2]*batch_size,\n",
    "                                         source_sequence_length: [len(translate_sentence)]*batch_size,\n",
    "                                         keep_prob: 1.0})[0]\n",
    "\n",
    "print('Input')\n",
    "print('  Word Ids:      {}'.format([i for i in translate_sentence]))\n",
    "print('  English Words: {}'.format([source_int_to_vocab[i] for i in translate_sentence]))\n",
    "\n",
    "print('\\nPrediction')\n",
    "print('  Word Ids:      {}'.format([i for i in translate_logits]))\n",
    "print('  French Words: {}'.format(\" \".join([target_int_to_vocab[i] for i in translate_logits])))\n"
   ]
  },
  {
   "cell_type": "markdown",
   "metadata": {},
   "source": [
    "## Imperfect Translation\n",
    "You might notice that some sentences translate better than others.  Since the dataset you're using only has a vocabulary of 227 English words of the thousands that you use, you're only going to see good results using these words.  For this project, you don't need a perfect translation. However, if you want to create a better translation model, you'll need better data.\n",
    "\n",
    "You can train on the [WMT10 French-English corpus](http://www.statmt.org/wmt10/training-giga-fren.tar).  This dataset has more vocabulary and richer in topics discussed.  However, this will take you days to train, so make sure you've a GPU and the neural network is performing well on dataset we provided.  Just make sure you play with the WMT10 corpus after you've submitted this project.\n",
    "## Submitting This Project\n",
    "When submitting this project, make sure to run all the cells before saving the notebook. Save the notebook file as \"dlnd_language_translation.ipynb\" and save it as a HTML file under \"File\" -> \"Download as\". Include the \"helper.py\" and \"problem_unittests.py\" files in your submission."
   ]
  },
  {
   "cell_type": "code",
   "execution_count": null,
   "metadata": {
    "collapsed": true
   },
   "outputs": [],
   "source": []
  }
 ],
 "metadata": {
  "anaconda-cloud": {},
  "kernelspec": {
   "display_name": "Python 3",
   "language": "python",
   "name": "python3"
  },
  "language_info": {
   "codemirror_mode": {
    "name": "ipython",
    "version": 3
   },
   "file_extension": ".py",
   "mimetype": "text/x-python",
   "name": "python",
   "nbconvert_exporter": "python",
   "pygments_lexer": "ipython3",
   "version": "3.5.3"
  }
 },
 "nbformat": 4,
 "nbformat_minor": 1
}
